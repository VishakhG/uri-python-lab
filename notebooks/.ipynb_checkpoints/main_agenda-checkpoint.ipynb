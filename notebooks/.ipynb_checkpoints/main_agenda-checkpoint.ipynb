{
 "cells": [
  {
   "cell_type": "markdown",
   "metadata": {},
   "source": [
    "# Python for scientific computing"
   ]
  },
  {
   "cell_type": "markdown",
   "metadata": {},
   "source": [
    "# First things first: \n",
    "1. install python3  \n",
    "   * https://docs.python-guide.org/starting/install3/osx/\n",
    "\n",
    "2. install anaconda\n",
    "    * https://conda.io/docs/user-guide/install/index.html\n",
    "\n",
    "3.  Install jupyter lab\n",
    "    https://jupyterlab.readthedocs.io/en/stable/getting_started/installation.htm\n",
    "\n",
    "4. deep learning:\n",
    "    - keras https://keras.io/#installation\n",
    "        * Very easy to use but not flexible\n",
    "\n",
    "    - pytorch\n",
    "        * better for research\n",
    "        * https://pytorch.org/\n"
   ]
  },
  {
   "cell_type": "markdown",
   "metadata": {},
   "source": [
    "# Python basics: syntax, control flow, writing idiomatic code "
   ]
  },
  {
   "cell_type": "markdown",
   "metadata": {},
   "source": [
    "# Look at CS228 Python Tutorial"
   ]
  },
  {
   "cell_type": "code",
   "execution_count": 2,
   "metadata": {},
   "outputs": [],
   "source": [
    "# Excercise:\n"
   ]
  },
  {
   "cell_type": "code",
   "execution_count": null,
   "metadata": {},
   "outputs": [],
   "source": []
  }
 ],
 "metadata": {
  "kernelspec": {
   "display_name": "Python 3",
   "language": "python",
   "name": "python3"
  },
  "language_info": {
   "codemirror_mode": {
    "name": "ipython",
    "version": 3
   },
   "file_extension": ".py",
   "mimetype": "text/x-python",
   "name": "python",
   "nbconvert_exporter": "python",
   "pygments_lexer": "ipython3",
   "version": "3.6.3"
  }
 },
 "nbformat": 4,
 "nbformat_minor": 2
}
